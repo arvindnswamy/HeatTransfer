{
 "cells": [
  {
   "cell_type": "code",
   "execution_count": 3,
   "metadata": {},
   "outputs": [
    {
     "name": "stdout",
     "output_type": "stream",
     "text": [
      "34.95167377704368\n"
     ]
    }
   ],
   "source": [
    "import numpy as np\n",
    "\n",
    "mdot = 0.007 # mass flow rate\n",
    "pipe_id = 0.01 #pipe inner diameter\n",
    "pipe_perim = np.pi*pipe_id #pipe perimeter\n",
    "pipe_length = 1.5 #length of pipe\n",
    "\n",
    "k_b = 0.138 #Thermal conductivity at Tb\n",
    "rho_b = 848.0 #density at Tb\n",
    "cp_b = 2160 #specific heat at Tb\n",
    "mu_b =  0.0255 #viscosity at Tb\n",
    "nu_b = 30.1e-6 # kinematic viscosity at Tb\n",
    "Pr_b = 400.0\n",
    "\n",
    "ReD_b = 4*mdot/(pipe_perim*mu_b)\n",
    "print(ReD_b)"
   ]
  },
  {
   "cell_type": "code",
   "execution_count": 7,
   "metadata": {},
   "outputs": [],
   "source": [
    "def NusseltContTwPipeLaminarCirc(ReD, Pr, DbyL):\n",
    "    return 3.66 + 0.065*(DbyL)*ReD*Pr/(1+0.04*(DbyL*ReD*Pr)**(2.0/3))"
   ]
  },
  {
   "cell_type": "code",
   "execution_count": 8,
   "metadata": {},
   "outputs": [
    {
     "name": "stdout",
     "output_type": "stream",
     "text": [
      "6.984572657885986\n"
     ]
    }
   ],
   "source": [
    "NuD_b = NusseltContTwPipeLaminarCirc(ReD_b, Pr_b, pipe_id/pipe_length)\n",
    "print(NuD_b)"
   ]
  },
  {
   "cell_type": "code",
   "execution_count": 9,
   "metadata": {},
   "outputs": [
    {
     "name": "stdout",
     "output_type": "stream",
     "text": [
      "5.0313760832273955\n"
     ]
    }
   ],
   "source": [
    "mu_s = 0.503 # viscosity of SAE50 at Ts = 300 K\n",
    "n= -0.11\n",
    "NuD_corrected = NuD_b*(mu_s/mu_b)**n\n",
    "\n",
    "print(NuD_corrected)"
   ]
  },
  {
   "cell_type": "code",
   "execution_count": 10,
   "metadata": {},
   "outputs": [
    {
     "name": "stdout",
     "output_type": "stream",
     "text": [
      "69.43298994853807\n"
     ]
    }
   ],
   "source": [
    "h_avg = NuD_corrected*k_b/pipe_id\n",
    "print(h_avg)"
   ]
  },
  {
   "cell_type": "code",
   "execution_count": 11,
   "metadata": {},
   "outputs": [
    {
     "name": "stdout",
     "output_type": "stream",
     "text": [
      "362.0168698599255\n"
     ]
    }
   ],
   "source": [
    "Tw = 300.0\n",
    "Tb_in = 377.0\n",
    "Tb_out = Tw + (Tb_in - Tw)*np.exp(-h_avg*np.pi*pipe_id*pipe_length/(mdot*cp_b))\n",
    "print(Tb_out)"
   ]
  },
  {
   "cell_type": "code",
   "execution_count": 15,
   "metadata": {},
   "outputs": [
    {
     "name": "stdout",
     "output_type": "stream",
     "text": [
      "pipe areas 7.853981633974484e-05 7.853981633974483e-05\n",
      "Re_Dh_b = 13.192849788340707\n"
     ]
    }
   ],
   "source": [
    "#Modified problem - rectangular channel of same area\n",
    "ch_thickness = (np.pi/80)**0.5*pipe_id #\n",
    "ch_width = 20*ch_thickness\n",
    "ch_Ac = ch_thickness*ch_width \n",
    "ch_P = 2*(ch_thickness+ch_width)\n",
    "print('pipe areas', ch_thickness*ch_width, np.pi*pipe_id**2/4)\n",
    "\n",
    "Dh = 4*ch_Ac/ch_P\n",
    "\n",
    "Re_Dh_b = 4*mdot/(ch_P*mu_b)\n",
    "\n",
    "print('Re_Dh_b =', Re_Dh_b)\n",
    "\n"
   ]
  },
  {
   "cell_type": "code",
   "execution_count": 18,
   "metadata": {},
   "outputs": [],
   "source": [
    "def NusseltContTwPipeLaminarFlatChannel(ReDh, Pr, DbyL):\n",
    "    return 7.54 + 0.03*(DbyL)*ReDh*Pr/(1+0.016*(DbyL*ReDh*Pr)**(2.0/3))"
   ]
  },
  {
   "cell_type": "code",
   "execution_count": 19,
   "metadata": {},
   "outputs": [
    {
     "name": "stdout",
     "output_type": "stream",
     "text": [
      "7.905580482247483\n"
     ]
    }
   ],
   "source": [
    "NuDh_b = NusseltContTwPipeLaminarFlatChannel(Re_Dh_b, Pr_b, Dh/pipe_length)\n",
    "print(NuDh_b)"
   ]
  },
  {
   "cell_type": "code",
   "execution_count": 21,
   "metadata": {},
   "outputs": [
    {
     "name": "stdout",
     "output_type": "stream",
     "text": [
      "5.694829234470049\n"
     ]
    }
   ],
   "source": [
    "NuDh_corrected = NuDh_b*(mu_s/mu_b)**n\n",
    "print(NuDh_corrected)"
   ]
  },
  {
   "cell_type": "code",
   "execution_count": 24,
   "metadata": {},
   "outputs": [
    {
     "name": "stdout",
     "output_type": "stream",
     "text": [
      "208.2040402197286\n"
     ]
    }
   ],
   "source": [
    "h_avg_fc = NuDh_corrected*k_b/Dh\n",
    "print(h_avg_fc)"
   ]
  },
  {
   "cell_type": "code",
   "execution_count": 25,
   "metadata": {},
   "outputs": [
    {
     "name": "stdout",
     "output_type": "stream",
     "text": [
      "313.8001415133069\n"
     ]
    }
   ],
   "source": [
    "Tb_out_fc = Tw + (Tb_in - Tw)*np.exp(-h_avg_fc*ch_P*pipe_length/(mdot*cp_b))\n",
    "print(Tb_out_fc)"
   ]
  },
  {
   "cell_type": "code",
   "execution_count": null,
   "metadata": {},
   "outputs": [],
   "source": []
  }
 ],
 "metadata": {
  "kernelspec": {
   "display_name": "Python 3",
   "language": "python",
   "name": "python3"
  },
  "language_info": {
   "codemirror_mode": {
    "name": "ipython",
    "version": 3
   },
   "file_extension": ".py",
   "mimetype": "text/x-python",
   "name": "python",
   "nbconvert_exporter": "python",
   "pygments_lexer": "ipython3",
   "version": "3.6.4"
  }
 },
 "nbformat": 4,
 "nbformat_minor": 2
}

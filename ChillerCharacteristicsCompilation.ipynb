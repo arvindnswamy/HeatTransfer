{
  "nbformat": 4,
  "nbformat_minor": 0,
  "metadata": {
    "colab": {
      "name": "ChillerCharacteristicsCompilation.ipynb",
      "version": "0.3.2",
      "provenance": [],
      "collapsed_sections": [],
      "include_colab_link": true
    },
    "kernelspec": {
      "name": "python3",
      "display_name": "Python 3"
    }
  },
  "cells": [
    {
      "cell_type": "markdown",
      "metadata": {
        "id": "view-in-github",
        "colab_type": "text"
      },
      "source": [
        "<a href=\"https://colab.research.google.com/github/arvindnswamy/HeatTransfer/blob/master/ChillerCharacteristicsCompilation.ipynb\" target=\"_parent\"><img src=\"https://colab.research.google.com/assets/colab-badge.svg\" alt=\"Open In Colab\"/></a>"
      ]
    },
    {
      "metadata": {
        "id": "32XsqSEpI0qI",
        "colab_type": "code",
        "colab": {}
      },
      "cell_type": "code",
      "source": [
        "import numpy as np\n",
        "import pandas as pd\n",
        "import matplotlib.pyplot as plt\n",
        "\n",
        "hx_characteristics = {\n",
        "    \"30XW-150\": {\"name\": '30XW-150',\n",
        "                 \"company\": 'Carrier',\n",
        "                 \"capacityton\": 150.0,\n",
        "                 \"capacitykW\": 528.0,\n",
        "                 \"masskg\": 3303.0,\n",
        "                 \"lengthmm\": 3070.2,\n",
        "                 \"widthmm\": 1139.8,\n",
        "                 \"heightmm\": 1806.6\n",
        "                },\n",
        "    \"30XW-175\": {\"name\": '30XW-175',\n",
        "                 \"company\": 'Carrier',\n",
        "                 \"capacityton\": 175.0,\n",
        "                 \"capacitykW\": 615.0,\n",
        "                 \"masskg\": 3366.0,\n",
        "                 \"lengthmm\": 3070.2,\n",
        "                 \"widthmm\": 1139.8,\n",
        "                 \"heightmm\": 1806.6\n",
        "                },\n",
        "    \"30XW-185\": {\"name\": '30XW-185',\n",
        "                 \"company\": 'Carrier',\n",
        "                 \"capacityton\": 185.0,\n",
        "                 \"capacitykW\": 651.0,\n",
        "                 \"masskg\": 3337.0,\n",
        "                 \"lengthmm\": 3070.2,\n",
        "                 \"widthmm\": 1139.8,\n",
        "                 \"heightmm\": 1806.6\n",
        "                },\n",
        "    \"30XW-200\": {\"name\": '30XW-200',\n",
        "                 \"company\": 'Carrier',\n",
        "                 \"capacityton\": 200.0,\n",
        "                 \"capacitykW\": 703.0,\n",
        "                 \"masskg\": 3425.0,\n",
        "                 \"lengthmm\": 3070.2,\n",
        "                 \"widthmm\": 1139.8,\n",
        "                 \"heightmm\": 1806.6\n",
        "                },\n",
        "    \"30XW-225\": {\"name\": '30XW-225',\n",
        "                 \"company\": 'Carrier',\n",
        "                 \"capacityton\": 225.0,\n",
        "                 \"capacitykW\": 791.0,\n",
        "                 \"masskg\": 4507.0,\n",
        "                 \"lengthmm\": 3319.5,\n",
        "                 \"widthmm\": 1249.2,\n",
        "                 \"heightmm\": 2001.8\n",
        "                },\n",
        "    \"30XW-250\": {\"name\": '30XW-250',\n",
        "                 \"company\": 'Carrier',\n",
        "                 \"capacityton\": 250.0,\n",
        "                 \"capacitykW\": 878.0,\n",
        "                 \"masskg\": 4540.0,\n",
        "                 \"lengthmm\": 3319.5,\n",
        "                 \"widthmm\": 1249.2,\n",
        "                 \"heightmm\": 2001.8\n",
        "                },\n",
        "    \"30XW-260\": {\"name\": '30XW-260',\n",
        "                 \"company\": 'Carrier',\n",
        "                 \"capacityton\": 260.0,\n",
        "                 \"capacitykW\": 914.0,\n",
        "                 \"masskg\": 4516.0,\n",
        "                 \"lengthmm\": 3319.5,\n",
        "                 \"widthmm\": 1249.2,\n",
        "                 \"heightmm\": 2001.8\n",
        "                },\n",
        "    \"30XW-275\": {\"name\": '30XW-275',\n",
        "                 \"company\": 'Carrier',\n",
        "                 \"capacityton\": 275.0,\n",
        "                 \"capacitykW\": 965.0,\n",
        "                 \"masskg\": 4549.0,\n",
        "                 \"lengthmm\": 3319.5,\n",
        "                 \"widthmm\": 1249.2,\n",
        "                 \"heightmm\": 2001.8\n",
        "                },\n",
        "    \"30XW-300\": {\"name\": '30XW-300',\n",
        "                 \"company\": 'Carrier',\n",
        "                 \"capacityton\": 300.0,\n",
        "                 \"capacitykW\": 1053.0,\n",
        "                 \"masskg\": 4555.0,\n",
        "                 \"lengthmm\": 3319.5,\n",
        "                 \"widthmm\": 1249.2,\n",
        "                 \"heightmm\": 2001.8\n",
        "                },\n",
        "    \"30XW-325\": {\"name\": '30XW-325',\n",
        "                 \"company\": 'Carrier',\n",
        "                 \"capacityton\": 325.0,\n",
        "                 \"capacitykW\": 1143.0,\n",
        "                 \"masskg\": 6495.0,\n",
        "                 \"lengthmm\": 4057.7,\n",
        "                 \"widthmm\": 1215.0,\n",
        "                 \"heightmm\": 1998.7\n",
        "                },\n",
        "    \"30XW-350\": {\"name\": '30XW-350',\n",
        "                 \"company\": 'Carrier',\n",
        "                 \"capacityton\": 350.0,\n",
        "                 \"capacitykW\": 1231.0,\n",
        "                 \"masskg\": 6584.0,\n",
        "                 \"lengthmm\": 4057.7,\n",
        "                 \"widthmm\": 1215.0,\n",
        "                 \"heightmm\": 1998.7\n",
        "                },\n",
        "    \"30XW-375\": {\"name\": '30XW-375',\n",
        "                 \"company\": 'Carrier',\n",
        "                 \"capacityton\": 375.0,\n",
        "                 \"capacitykW\": 1319.0,\n",
        "                 \"masskg\": 6563.0,\n",
        "                 \"lengthmm\": 4057.7,\n",
        "                 \"widthmm\": 1215.0,\n",
        "                 \"heightmm\": 1998.7\n",
        "                },\n",
        "    \"30XW-400\": {\"name\": '30XW-400',\n",
        "                 \"company\": 'Carrier',\n",
        "                 \"capacityton\": 400.0,\n",
        "                 \"capacitykW\": 1407.0,\n",
        "                 \"masskg\": 6695.0,\n",
        "                 \"lengthmm\": 4057.7,\n",
        "                 \"widthmm\": 1215.0,\n",
        "                 \"heightmm\": 1998.7\n",
        "                },\n",
        "}\n",
        "\n",
        "\n",
        "hx_characteristics_df = pd.DataFrame.from_dict(hx_characteristics)"
      ],
      "execution_count": 0,
      "outputs": []
    },
    {
      "metadata": {
        "id": "3zDyo1MFQnQ-",
        "colab_type": "code",
        "colab": {
          "base_uri": "https://localhost:8080/",
          "height": 300
        },
        "outputId": "a2c9c488-5b44-4eb4-999d-83f9f729206e"
      },
      "cell_type": "code",
      "source": [
        "hx_characteristics_df"
      ],
      "execution_count": 3,
      "outputs": [
        {
          "output_type": "execute_result",
          "data": {
            "text/html": [
              "<div>\n",
              "<style scoped>\n",
              "    .dataframe tbody tr th:only-of-type {\n",
              "        vertical-align: middle;\n",
              "    }\n",
              "\n",
              "    .dataframe tbody tr th {\n",
              "        vertical-align: top;\n",
              "    }\n",
              "\n",
              "    .dataframe thead th {\n",
              "        text-align: right;\n",
              "    }\n",
              "</style>\n",
              "<table border=\"1\" class=\"dataframe\">\n",
              "  <thead>\n",
              "    <tr style=\"text-align: right;\">\n",
              "      <th></th>\n",
              "      <th>30XW-150</th>\n",
              "      <th>30XW-175</th>\n",
              "      <th>30XW-185</th>\n",
              "      <th>30XW-200</th>\n",
              "      <th>30XW-225</th>\n",
              "      <th>30XW-250</th>\n",
              "      <th>30XW-260</th>\n",
              "      <th>30XW-275</th>\n",
              "      <th>30XW-300</th>\n",
              "      <th>30XW-325</th>\n",
              "      <th>30XW-350</th>\n",
              "      <th>30XW-375</th>\n",
              "      <th>30XW-400</th>\n",
              "    </tr>\n",
              "  </thead>\n",
              "  <tbody>\n",
              "    <tr>\n",
              "      <th>capacitykW</th>\n",
              "      <td>528</td>\n",
              "      <td>615</td>\n",
              "      <td>651</td>\n",
              "      <td>703</td>\n",
              "      <td>791</td>\n",
              "      <td>878</td>\n",
              "      <td>914</td>\n",
              "      <td>965</td>\n",
              "      <td>1053</td>\n",
              "      <td>1143</td>\n",
              "      <td>1231</td>\n",
              "      <td>1319</td>\n",
              "      <td>1407</td>\n",
              "    </tr>\n",
              "    <tr>\n",
              "      <th>capacityton</th>\n",
              "      <td>150</td>\n",
              "      <td>175</td>\n",
              "      <td>185</td>\n",
              "      <td>200</td>\n",
              "      <td>225</td>\n",
              "      <td>250</td>\n",
              "      <td>260</td>\n",
              "      <td>275</td>\n",
              "      <td>300</td>\n",
              "      <td>325</td>\n",
              "      <td>350</td>\n",
              "      <td>375</td>\n",
              "      <td>400</td>\n",
              "    </tr>\n",
              "    <tr>\n",
              "      <th>company</th>\n",
              "      <td>Carrier</td>\n",
              "      <td>Carrier</td>\n",
              "      <td>Carrier</td>\n",
              "      <td>Carrier</td>\n",
              "      <td>Carrier</td>\n",
              "      <td>Carrier</td>\n",
              "      <td>Carrier</td>\n",
              "      <td>Carrier</td>\n",
              "      <td>Carrier</td>\n",
              "      <td>Carrier</td>\n",
              "      <td>Carrier</td>\n",
              "      <td>Carrier</td>\n",
              "      <td>Carrier</td>\n",
              "    </tr>\n",
              "    <tr>\n",
              "      <th>heightmm</th>\n",
              "      <td>1806.6</td>\n",
              "      <td>1806.6</td>\n",
              "      <td>1806.6</td>\n",
              "      <td>1806.6</td>\n",
              "      <td>2001.8</td>\n",
              "      <td>2001.8</td>\n",
              "      <td>2001.8</td>\n",
              "      <td>2001.8</td>\n",
              "      <td>2001.8</td>\n",
              "      <td>1998.7</td>\n",
              "      <td>1998.7</td>\n",
              "      <td>1998.7</td>\n",
              "      <td>1998.7</td>\n",
              "    </tr>\n",
              "    <tr>\n",
              "      <th>lengthmm</th>\n",
              "      <td>3070.2</td>\n",
              "      <td>3070.2</td>\n",
              "      <td>3070.2</td>\n",
              "      <td>3070.2</td>\n",
              "      <td>3319.5</td>\n",
              "      <td>3319.5</td>\n",
              "      <td>3319.5</td>\n",
              "      <td>3319.5</td>\n",
              "      <td>3319.5</td>\n",
              "      <td>4057.7</td>\n",
              "      <td>4057.7</td>\n",
              "      <td>4057.7</td>\n",
              "      <td>4057.7</td>\n",
              "    </tr>\n",
              "    <tr>\n",
              "      <th>masskg</th>\n",
              "      <td>3303</td>\n",
              "      <td>3366</td>\n",
              "      <td>3337</td>\n",
              "      <td>3425</td>\n",
              "      <td>4507</td>\n",
              "      <td>4540</td>\n",
              "      <td>4516</td>\n",
              "      <td>4549</td>\n",
              "      <td>4555</td>\n",
              "      <td>6495</td>\n",
              "      <td>6584</td>\n",
              "      <td>6563</td>\n",
              "      <td>6695</td>\n",
              "    </tr>\n",
              "    <tr>\n",
              "      <th>name</th>\n",
              "      <td>30XW-150</td>\n",
              "      <td>30XW-175</td>\n",
              "      <td>30XW-185</td>\n",
              "      <td>30XW-200</td>\n",
              "      <td>30XW-225</td>\n",
              "      <td>30XW-250</td>\n",
              "      <td>30XW-260</td>\n",
              "      <td>30XW-275</td>\n",
              "      <td>30XW-300</td>\n",
              "      <td>30XW-325</td>\n",
              "      <td>30XW-350</td>\n",
              "      <td>30XW-375</td>\n",
              "      <td>30XW-400</td>\n",
              "    </tr>\n",
              "    <tr>\n",
              "      <th>widthmm</th>\n",
              "      <td>1139.8</td>\n",
              "      <td>1139.8</td>\n",
              "      <td>1139.8</td>\n",
              "      <td>1139.8</td>\n",
              "      <td>1249.2</td>\n",
              "      <td>1249.2</td>\n",
              "      <td>1249.2</td>\n",
              "      <td>1249.2</td>\n",
              "      <td>1249.2</td>\n",
              "      <td>1215</td>\n",
              "      <td>1215</td>\n",
              "      <td>1215</td>\n",
              "      <td>1215</td>\n",
              "    </tr>\n",
              "  </tbody>\n",
              "</table>\n",
              "</div>"
            ],
            "text/plain": [
              "             30XW-150  30XW-175  30XW-185  30XW-200  30XW-225  30XW-250  \\\n",
              "capacitykW        528       615       651       703       791       878   \n",
              "capacityton       150       175       185       200       225       250   \n",
              "company       Carrier   Carrier   Carrier   Carrier   Carrier   Carrier   \n",
              "heightmm       1806.6    1806.6    1806.6    1806.6    2001.8    2001.8   \n",
              "lengthmm       3070.2    3070.2    3070.2    3070.2    3319.5    3319.5   \n",
              "masskg           3303      3366      3337      3425      4507      4540   \n",
              "name         30XW-150  30XW-175  30XW-185  30XW-200  30XW-225  30XW-250   \n",
              "widthmm        1139.8    1139.8    1139.8    1139.8    1249.2    1249.2   \n",
              "\n",
              "             30XW-260  30XW-275  30XW-300  30XW-325  30XW-350  30XW-375  \\\n",
              "capacitykW        914       965      1053      1143      1231      1319   \n",
              "capacityton       260       275       300       325       350       375   \n",
              "company       Carrier   Carrier   Carrier   Carrier   Carrier   Carrier   \n",
              "heightmm       2001.8    2001.8    2001.8    1998.7    1998.7    1998.7   \n",
              "lengthmm       3319.5    3319.5    3319.5    4057.7    4057.7    4057.7   \n",
              "masskg           4516      4549      4555      6495      6584      6563   \n",
              "name         30XW-260  30XW-275  30XW-300  30XW-325  30XW-350  30XW-375   \n",
              "widthmm        1249.2    1249.2    1249.2      1215      1215      1215   \n",
              "\n",
              "             30XW-400  \n",
              "capacitykW       1407  \n",
              "capacityton       400  \n",
              "company       Carrier  \n",
              "heightmm       1998.7  \n",
              "lengthmm       4057.7  \n",
              "masskg           6695  \n",
              "name         30XW-400  \n",
              "widthmm          1215  "
            ]
          },
          "metadata": {
            "tags": []
          },
          "execution_count": 3
        }
      ]
    },
    {
      "metadata": {
        "id": "TjMTY5LwQuqZ",
        "colab_type": "code",
        "colab": {
          "base_uri": "https://localhost:8080/",
          "height": 182
        },
        "outputId": "be02ffff-fffc-4ca3-dc38-d7fe62614c85"
      },
      "cell_type": "code",
      "source": [
        "hx_characteristics_df['30XW-150']"
      ],
      "execution_count": 4,
      "outputs": [
        {
          "output_type": "execute_result",
          "data": {
            "text/plain": [
              "capacitykW          528\n",
              "capacityton         150\n",
              "company         Carrier\n",
              "heightmm         1806.6\n",
              "lengthmm         3070.2\n",
              "masskg             3303\n",
              "name           30XW-150\n",
              "widthmm          1139.8\n",
              "Name: 30XW-150, dtype: object"
            ]
          },
          "metadata": {
            "tags": []
          },
          "execution_count": 4
        }
      ]
    },
    {
      "metadata": {
        "id": "gyFsOaOnRF4M",
        "colab_type": "code",
        "colab": {
          "base_uri": "https://localhost:8080/",
          "height": 457
        },
        "outputId": "6de994f0-3847-4bb3-cfbe-b9c3f790248c"
      },
      "cell_type": "code",
      "source": [
        "hx_characteristics_df_transposed = hx_characteristics_df.T\n",
        "hx_characteristics_df_transposed"
      ],
      "execution_count": 8,
      "outputs": [
        {
          "output_type": "execute_result",
          "data": {
            "text/html": [
              "<div>\n",
              "<style scoped>\n",
              "    .dataframe tbody tr th:only-of-type {\n",
              "        vertical-align: middle;\n",
              "    }\n",
              "\n",
              "    .dataframe tbody tr th {\n",
              "        vertical-align: top;\n",
              "    }\n",
              "\n",
              "    .dataframe thead th {\n",
              "        text-align: right;\n",
              "    }\n",
              "</style>\n",
              "<table border=\"1\" class=\"dataframe\">\n",
              "  <thead>\n",
              "    <tr style=\"text-align: right;\">\n",
              "      <th></th>\n",
              "      <th>capacitykW</th>\n",
              "      <th>capacityton</th>\n",
              "      <th>company</th>\n",
              "      <th>heightmm</th>\n",
              "      <th>lengthmm</th>\n",
              "      <th>masskg</th>\n",
              "      <th>name</th>\n",
              "      <th>widthmm</th>\n",
              "    </tr>\n",
              "  </thead>\n",
              "  <tbody>\n",
              "    <tr>\n",
              "      <th>30XW-150</th>\n",
              "      <td>528</td>\n",
              "      <td>150</td>\n",
              "      <td>Carrier</td>\n",
              "      <td>1806.6</td>\n",
              "      <td>3070.2</td>\n",
              "      <td>3303</td>\n",
              "      <td>30XW-150</td>\n",
              "      <td>1139.8</td>\n",
              "    </tr>\n",
              "    <tr>\n",
              "      <th>30XW-175</th>\n",
              "      <td>615</td>\n",
              "      <td>175</td>\n",
              "      <td>Carrier</td>\n",
              "      <td>1806.6</td>\n",
              "      <td>3070.2</td>\n",
              "      <td>3366</td>\n",
              "      <td>30XW-175</td>\n",
              "      <td>1139.8</td>\n",
              "    </tr>\n",
              "    <tr>\n",
              "      <th>30XW-185</th>\n",
              "      <td>651</td>\n",
              "      <td>185</td>\n",
              "      <td>Carrier</td>\n",
              "      <td>1806.6</td>\n",
              "      <td>3070.2</td>\n",
              "      <td>3337</td>\n",
              "      <td>30XW-185</td>\n",
              "      <td>1139.8</td>\n",
              "    </tr>\n",
              "    <tr>\n",
              "      <th>30XW-200</th>\n",
              "      <td>703</td>\n",
              "      <td>200</td>\n",
              "      <td>Carrier</td>\n",
              "      <td>1806.6</td>\n",
              "      <td>3070.2</td>\n",
              "      <td>3425</td>\n",
              "      <td>30XW-200</td>\n",
              "      <td>1139.8</td>\n",
              "    </tr>\n",
              "    <tr>\n",
              "      <th>30XW-225</th>\n",
              "      <td>791</td>\n",
              "      <td>225</td>\n",
              "      <td>Carrier</td>\n",
              "      <td>2001.8</td>\n",
              "      <td>3319.5</td>\n",
              "      <td>4507</td>\n",
              "      <td>30XW-225</td>\n",
              "      <td>1249.2</td>\n",
              "    </tr>\n",
              "    <tr>\n",
              "      <th>30XW-250</th>\n",
              "      <td>878</td>\n",
              "      <td>250</td>\n",
              "      <td>Carrier</td>\n",
              "      <td>2001.8</td>\n",
              "      <td>3319.5</td>\n",
              "      <td>4540</td>\n",
              "      <td>30XW-250</td>\n",
              "      <td>1249.2</td>\n",
              "    </tr>\n",
              "    <tr>\n",
              "      <th>30XW-260</th>\n",
              "      <td>914</td>\n",
              "      <td>260</td>\n",
              "      <td>Carrier</td>\n",
              "      <td>2001.8</td>\n",
              "      <td>3319.5</td>\n",
              "      <td>4516</td>\n",
              "      <td>30XW-260</td>\n",
              "      <td>1249.2</td>\n",
              "    </tr>\n",
              "    <tr>\n",
              "      <th>30XW-275</th>\n",
              "      <td>965</td>\n",
              "      <td>275</td>\n",
              "      <td>Carrier</td>\n",
              "      <td>2001.8</td>\n",
              "      <td>3319.5</td>\n",
              "      <td>4549</td>\n",
              "      <td>30XW-275</td>\n",
              "      <td>1249.2</td>\n",
              "    </tr>\n",
              "    <tr>\n",
              "      <th>30XW-300</th>\n",
              "      <td>1053</td>\n",
              "      <td>300</td>\n",
              "      <td>Carrier</td>\n",
              "      <td>2001.8</td>\n",
              "      <td>3319.5</td>\n",
              "      <td>4555</td>\n",
              "      <td>30XW-300</td>\n",
              "      <td>1249.2</td>\n",
              "    </tr>\n",
              "    <tr>\n",
              "      <th>30XW-325</th>\n",
              "      <td>1143</td>\n",
              "      <td>325</td>\n",
              "      <td>Carrier</td>\n",
              "      <td>1998.7</td>\n",
              "      <td>4057.7</td>\n",
              "      <td>6495</td>\n",
              "      <td>30XW-325</td>\n",
              "      <td>1215</td>\n",
              "    </tr>\n",
              "    <tr>\n",
              "      <th>30XW-350</th>\n",
              "      <td>1231</td>\n",
              "      <td>350</td>\n",
              "      <td>Carrier</td>\n",
              "      <td>1998.7</td>\n",
              "      <td>4057.7</td>\n",
              "      <td>6584</td>\n",
              "      <td>30XW-350</td>\n",
              "      <td>1215</td>\n",
              "    </tr>\n",
              "    <tr>\n",
              "      <th>30XW-375</th>\n",
              "      <td>1319</td>\n",
              "      <td>375</td>\n",
              "      <td>Carrier</td>\n",
              "      <td>1998.7</td>\n",
              "      <td>4057.7</td>\n",
              "      <td>6563</td>\n",
              "      <td>30XW-375</td>\n",
              "      <td>1215</td>\n",
              "    </tr>\n",
              "    <tr>\n",
              "      <th>30XW-400</th>\n",
              "      <td>1407</td>\n",
              "      <td>400</td>\n",
              "      <td>Carrier</td>\n",
              "      <td>1998.7</td>\n",
              "      <td>4057.7</td>\n",
              "      <td>6695</td>\n",
              "      <td>30XW-400</td>\n",
              "      <td>1215</td>\n",
              "    </tr>\n",
              "  </tbody>\n",
              "</table>\n",
              "</div>"
            ],
            "text/plain": [
              "         capacitykW capacityton  company heightmm lengthmm masskg      name  \\\n",
              "30XW-150        528         150  Carrier   1806.6   3070.2   3303  30XW-150   \n",
              "30XW-175        615         175  Carrier   1806.6   3070.2   3366  30XW-175   \n",
              "30XW-185        651         185  Carrier   1806.6   3070.2   3337  30XW-185   \n",
              "30XW-200        703         200  Carrier   1806.6   3070.2   3425  30XW-200   \n",
              "30XW-225        791         225  Carrier   2001.8   3319.5   4507  30XW-225   \n",
              "30XW-250        878         250  Carrier   2001.8   3319.5   4540  30XW-250   \n",
              "30XW-260        914         260  Carrier   2001.8   3319.5   4516  30XW-260   \n",
              "30XW-275        965         275  Carrier   2001.8   3319.5   4549  30XW-275   \n",
              "30XW-300       1053         300  Carrier   2001.8   3319.5   4555  30XW-300   \n",
              "30XW-325       1143         325  Carrier   1998.7   4057.7   6495  30XW-325   \n",
              "30XW-350       1231         350  Carrier   1998.7   4057.7   6584  30XW-350   \n",
              "30XW-375       1319         375  Carrier   1998.7   4057.7   6563  30XW-375   \n",
              "30XW-400       1407         400  Carrier   1998.7   4057.7   6695  30XW-400   \n",
              "\n",
              "         widthmm  \n",
              "30XW-150  1139.8  \n",
              "30XW-175  1139.8  \n",
              "30XW-185  1139.8  \n",
              "30XW-200  1139.8  \n",
              "30XW-225  1249.2  \n",
              "30XW-250  1249.2  \n",
              "30XW-260  1249.2  \n",
              "30XW-275  1249.2  \n",
              "30XW-300  1249.2  \n",
              "30XW-325    1215  \n",
              "30XW-350    1215  \n",
              "30XW-375    1215  \n",
              "30XW-400    1215  "
            ]
          },
          "metadata": {
            "tags": []
          },
          "execution_count": 8
        }
      ]
    },
    {
      "metadata": {
        "id": "O1ZS1aDvRZx1",
        "colab_type": "code",
        "colab": {
          "base_uri": "https://localhost:8080/",
          "height": 379
        },
        "outputId": "cf59381a-16aa-4c8c-aed3-0b6f80df080f"
      },
      "cell_type": "code",
      "source": [
        "hx_characteristics_df_transposed.plot(x='capacitykW', y='masskg')"
      ],
      "execution_count": 13,
      "outputs": [
        {
          "output_type": "execute_result",
          "data": {
            "text/plain": [
              "<matplotlib.axes._subplots.AxesSubplot at 0x7f1457557ac8>"
            ]
          },
          "metadata": {
            "tags": []
          },
          "execution_count": 13
        },
        {
          "output_type": "display_data",
          "data": {
            "image/png": "[encoded data removed]",
            "text/plain": [
              "<Figure size 576x396 with 1 Axes>"
            ]
          },
          "metadata": {
            "tags": []
          }
        }
      ]
    },
    {
      "metadata": {
        "id": "lhQ-YSoRSOmu",
        "colab_type": "code",
        "colab": {}
      },
      "cell_type": "code",
      "source": [
        "hx_char_mod = hx_characteristics_df_transposed.astype({\"capacitykW\": 'float64', \"capacityton\": 'float64', 'company': 'object', 'heightmm': 'float64', 'lengthmm': 'float64', 'widthmm': 'float64', 'masskg': 'float64', 'name': 'object'})"
      ],
      "execution_count": 0,
      "outputs": []
    },
    {
      "metadata": {
        "id": "O5LvRqa3TRQr",
        "colab_type": "code",
        "colab": {
          "base_uri": "https://localhost:8080/",
          "height": 182
        },
        "outputId": "5d357f68-0dcc-4268-a07b-5b51fb16441d"
      },
      "cell_type": "code",
      "source": [
        "hx_char_mod.dtypes"
      ],
      "execution_count": 20,
      "outputs": [
        {
          "output_type": "execute_result",
          "data": {
            "text/plain": [
              "capacitykW     float64\n",
              "capacityton    float64\n",
              "company         object\n",
              "heightmm       float64\n",
              "lengthmm       float64\n",
              "masskg         float64\n",
              "name            object\n",
              "widthmm        float64\n",
              "dtype: object"
            ]
          },
          "metadata": {
            "tags": []
          },
          "execution_count": 20
        }
      ]
    },
    {
      "metadata": {
        "id": "b_tseUpLVhGm",
        "colab_type": "code",
        "colab": {
          "base_uri": "https://localhost:8080/",
          "height": 427
        },
        "outputId": "12e27c70-9617-4e6b-a955-fa4aab198df9"
      },
      "cell_type": "code",
      "source": [
        "f, (ax1) = plt.subplots(1)\n",
        "hx_char_mod.plot.scatter(x='capacitykW', y='masskg', fontsize=14, ax=ax1)\n",
        "ax1.set_xlabel('Capacity (kW)', fontsize=16)\n",
        "ax1.set_ylabel('Mass (kg)', fontsize=16)"
      ],
      "execution_count": 26,
      "outputs": [
        {
          "output_type": "stream",
          "text": [
            "'c' argument looks like a single numeric RGB or RGBA sequence, which should be avoided as value-mapping will have precedence in case its length matches with 'x' & 'y'.  Please use a 2-D array with a single row if you really want to specify the same RGB or RGBA value for all points.\n"
          ],
          "name": "stderr"
        },
        {
          "output_type": "execute_result",
          "data": {
            "text/plain": [
              "Text(0, 0.5, 'Mass (kg)')"
            ]
          },
          "metadata": {
            "tags": []
          },
          "execution_count": 26
        },
        {
          "output_type": "display_data",
          "data": {
            "image/png": "[encoded data removed]",
            "text/plain": [
              "<Figure size 576x396 with 1 Axes>"
            ]
          },
          "metadata": {
            "tags": []
          }
        }
      ]
    },
    {
      "metadata": {
        "id": "oG3Qtja1Vqw9",
        "colab_type": "code",
        "colab": {}
      },
      "cell_type": "code",
      "source": [
        ""
      ],
      "execution_count": 0,
      "outputs": []
    }
  ]
}
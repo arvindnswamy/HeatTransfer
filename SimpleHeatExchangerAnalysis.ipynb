{
  "nbformat": 4,
  "nbformat_minor": 0,
  "metadata": {
    "colab": {
      "name": "SimpleHeatExchangerAnalysis.ipynb",
      "version": "0.3.2",
      "provenance": [],
      "collapsed_sections": [],
      "include_colab_link": true
    },
    "kernelspec": {
      "name": "python3",
      "display_name": "Python 3"
    }
  },
  "cells": [
    {
      "cell_type": "markdown",
      "metadata": {
        "id": "view-in-github",
        "colab_type": "text"
      },
      "source": [
        "<a href=\"https://colab.research.google.com/github/arvindnswamy/HeatTransfer/blob/master/SimpleHeatExchangerAnalysis.ipynb\" target=\"_parent\"><img src=\"https://colab.research.google.com/assets/colab-badge.svg\" alt=\"Open In Colab\"/></a>"
      ]
    },
    {
      "metadata": {
        "id": "c36useHcU-24",
        "colab_type": "text"
      },
      "cell_type": "markdown",
      "source": [
        "Let us consider a simple problem (from Kemp's book on Pinch Analysis, Table 2.1) with a heat exchanger between two process stream. We have two streams with the following characteristics: Cold stream: $\\dot{m}$ = 0.25 kg/s, $c_p $ = 4 kJ/kg/K, $T_{supply} = 20 $ $^o$C, $T_{target} = 200$ $^o$C; Hot stream: $\\dot{m}$ = 0.4 kg/s, $c_p $ = 4.5 kJ/kg/K, $T_{supply} = 150 $ $^o$C, $T_{target} = 50$ $^o$C; Find $UA$ needed for a counterflow heat exchanger to achieve these results. \n",
        "\n",
        "---\n",
        "\n",
        "\n"
      ]
    },
    {
      "metadata": {
        "id": "r8Vqbx65SB8m",
        "colab_type": "code",
        "colab": {
          "base_uri": "https://localhost:8080/",
          "height": 54
        },
        "outputId": "83bc574e-1d4f-47fc-df86-d99ec1db08f7"
      },
      "cell_type": "code",
      "source": [
        "\n",
        "import numpy as np\n",
        "\n",
        "mdotCp1 = 1.0 # in kW/K\n",
        "\n",
        "mdotCp2 = 1.8 #in kW/K\n",
        "\n",
        "T1in = 20 +273.15 #in K\n",
        "T1out = 140 + 273.15 #in K\n",
        "\n",
        "T2in = 150 + 273.15 #in K\n",
        "T2out = T2in - mdotCp1*(T1out - T1in)/mdotCp2\n",
        "\n",
        "print('T2out = {} C'.format(T2out-273.15))\n",
        "\n",
        "# Temperature allocation for a counterflow heat exchanger\n",
        "T1_0 = T1in\n",
        "T1_L = T1out\n",
        "\n",
        "T2_0 = T2out\n",
        "T2_L = T2in\n",
        "#end of temperature allocation\n",
        "\n",
        "UAreq = -(1/mdotCp1  - 1/mdotCp2)**(-1)*np.log((T1_L - T2_L)/(T1_0 - T2_0))\n",
        "\n",
        "print('UA needed is {} kW/K'.format(UAreq))"
      ],
      "execution_count": 5,
      "outputs": [
        {
          "output_type": "stream",
          "text": [
            "T2out = 83.33333333333331 C\n",
            "UA needed is 4.153110053621243 kW/K\n"
          ],
          "name": "stdout"
        }
      ]
    },
    {
      "metadata": {
        "id": "A2ulA7tfS6x1",
        "colab_type": "code",
        "colab": {}
      },
      "cell_type": "code",
      "source": [
        ""
      ],
      "execution_count": 0,
      "outputs": []
    }
  ]
}